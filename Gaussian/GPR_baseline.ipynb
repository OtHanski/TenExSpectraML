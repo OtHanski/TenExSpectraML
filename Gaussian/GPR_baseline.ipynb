{
 "cells": [
  {
   "cell_type": "code",
   "execution_count": 1,
   "metadata": {},
   "outputs": [],
   "source": [
    "import numpy as np\n",
    "from matplotlib import pyplot as plt\n",
    "import pandas as pd\n",
    "\n",
    "from sklearn.gaussian_process import GaussianProcessRegressor\n",
    "from sklearn.gaussian_process.kernels import RBF, ConstantKernel as C\n",
    "from GimmePandas import ReadToPandas"
   ]
  },
  {
   "cell_type": "code",
   "execution_count": 393,
   "metadata": {},
   "outputs": [
    {
     "name": "stdout",
     "output_type": "stream",
     "text": [
      "['../Data/TenExSpectra_JSON/001.json', '../Data/TenExSpectra_JSON/002.json', '../Data/TenExSpectra_JSON/003.json', '../Data/TenExSpectra_JSON/004.json', '../Data/TenExSpectra_JSON/005.json', '../Data/TenExSpectra_JSON/006.json', '../Data/TenExSpectra_JSON/007.json', '../Data/TenExSpectra_JSON/008.json', '../Data/TenExSpectra_JSON/009.json', '../Data/TenExSpectra_JSON/010.json', '../Data/TenExSpectra_JSON/011.json', '../Data/TenExSpectra_JSON/012.json', '../Data/TenExSpectra_JSON/013.json', '../Data/TenExSpectra_JSON/014.json', '../Data/TenExSpectra_JSON/015.json', '../Data/TenExSpectra_JSON/016.json', '../Data/TenExSpectra_JSON/017.json', '../Data/TenExSpectra_JSON/019.json', '../Data/TenExSpectra_JSON/020.json', '../Data/TenExSpectra_JSON/021.json', '../Data/TenExSpectra_JSON/022.json', '../Data/TenExSpectra_JSON/023.json', '../Data/TenExSpectra_JSON/024.json', '../Data/TenExSpectra_JSON/025.json', '../Data/TenExSpectra_JSON/026.json', '../Data/TenExSpectra_JSON/027.json', '../Data/TenExSpectra_JSON/028.json', '../Data/TenExSpectra_JSON/029.json', '../Data/TenExSpectra_JSON/030.json', '../Data/TenExSpectra_JSON/031.json', '../Data/TenExSpectra_JSON/032.json', '../Data/TenExSpectra_JSON/033.json', '../Data/TenExSpectra_JSON/034.json', '../Data/TenExSpectra_JSON/035.json', '../Data/TenExSpectra_JSON/036.json', '../Data/TenExSpectra_JSON/037.json', '../Data/TenExSpectra_JSON/038.json', '../Data/TenExSpectra_JSON/039.json', '../Data/TenExSpectra_JSON/041.json', '../Data/TenExSpectra_JSON/042.json', '../Data/TenExSpectra_JSON/044.json', '../Data/TenExSpectra_JSON/045.json', '../Data/TenExSpectra_JSON/046.json', '../Data/TenExSpectra_JSON/047.json', '../Data/TenExSpectra_JSON/048.json', '../Data/TenExSpectra_JSON/049.json', '../Data/TenExSpectra_JSON/050.json', '../Data/TenExSpectra_JSON/051.json', '../Data/TenExSpectra_JSON/052.json', '../Data/TenExSpectra_JSON/053.json', '../Data/TenExSpectra_JSON/054.json', '../Data/TenExSpectra_JSON/055.json']\n",
      "52\n"
     ]
    }
   ],
   "source": [
    "correct_files = []\n",
    "for i in range (1,56): #I used the original data and it had those problem files so I filtered them out\n",
    "    if i<10:\n",
    "        a = \"../Data/TenExSpectra_JSON/00\"+str(i)+\".json\"\n",
    "    elif i==18 or i==40 or i==43:\n",
    "        continue\n",
    "    else:\n",
    "        a = \"../Data/TenExSpectra_JSON/0\"+str(i)+\".json\"\n",
    "    correct_files.append(a)\n",
    "print(correct_files)\n",
    "print(len(correct_files))"
   ]
  },
  {
   "cell_type": "code",
   "execution_count": 394,
   "metadata": {},
   "outputs": [
    {
     "name": "stdout",
     "output_type": "stream",
     "text": [
      "Dataframe loaded\n"
     ]
    }
   ],
   "source": [
    "data = ReadToPandas(correct_files)\n",
    "\n",
    "origdata = data\n",
    "df = data.sample(frac=1).reset_index(drop=True) #suffle the data to randomize spectras in training and test set"
   ]
  },
  {
   "cell_type": "code",
   "execution_count": 392,
   "metadata": {},
   "outputs": [
    {
     "data": {
      "text/html": [
       "<div>\n",
       "<style scoped>\n",
       "    .dataframe tbody tr th:only-of-type {\n",
       "        vertical-align: middle;\n",
       "    }\n",
       "\n",
       "    .dataframe tbody tr th {\n",
       "        vertical-align: top;\n",
       "    }\n",
       "\n",
       "    .dataframe thead th {\n",
       "        text-align: right;\n",
       "    }\n",
       "</style>\n",
       "<table border=\"1\" class=\"dataframe\">\n",
       "  <thead>\n",
       "    <tr style=\"text-align: right;\">\n",
       "      <th></th>\n",
       "      <th>Excitation</th>\n",
       "      <th>Baseline</th>\n",
       "      <th>Peak</th>\n",
       "      <th>FWHM points</th>\n",
       "      <th>Xdata</th>\n",
       "      <th>Reflectivity</th>\n",
       "    </tr>\n",
       "  </thead>\n",
       "  <tbody>\n",
       "    <tr>\n",
       "      <th>0</th>\n",
       "      <td>400</td>\n",
       "      <td>98.744</td>\n",
       "      <td>548.301</td>\n",
       "      <td>[513.3230583341267, 583.2785018913012]</td>\n",
       "      <td>[180.846649169922, 181.7938742229098, 182.7410...</td>\n",
       "      <td>[98.67197875166002, 99.57503320053121, 100.424...</td>\n",
       "    </tr>\n",
       "    <tr>\n",
       "      <th>1</th>\n",
       "      <td>260</td>\n",
       "      <td>97.5492</td>\n",
       "      <td>602.366</td>\n",
       "      <td>[493.7656225009383, 710.965991609907]</td>\n",
       "      <td>[180.846649169922, 181.7938742229098, 182.7410...</td>\n",
       "      <td>[93.605220228385, 93.24236517218974, 94.383878...</td>\n",
       "    </tr>\n",
       "    <tr>\n",
       "      <th>2</th>\n",
       "      <td>300</td>\n",
       "      <td>97.9996</td>\n",
       "      <td>458.788</td>\n",
       "      <td>[392.96960705296664, 524.6061943917355]</td>\n",
       "      <td>[180.846649169922, 181.7938742229098, 182.7410...</td>\n",
       "      <td>[94.84561752988047, 93.32674246169056, 92.4626...</td>\n",
       "    </tr>\n",
       "    <tr>\n",
       "      <th>3</th>\n",
       "      <td>200</td>\n",
       "      <td>99.756</td>\n",
       "      <td>578.055</td>\n",
       "      <td>[526.1106125327501, 630.0]</td>\n",
       "      <td>[180.846649169922, 181.7938742229098, 182.7410...</td>\n",
       "      <td>[99.20191540303273, 99.62294640452464, 101.433...</td>\n",
       "    </tr>\n",
       "    <tr>\n",
       "      <th>4</th>\n",
       "      <td>220</td>\n",
       "      <td>98.4472</td>\n",
       "      <td>622.334</td>\n",
       "      <td>[534.4311231044703, 710.237529754083]</td>\n",
       "      <td>[180.846649169922, 181.7938742229098, 182.7410...</td>\n",
       "      <td>[98.95517867958813, 98.0398024839144, 98.50237...</td>\n",
       "    </tr>\n",
       "    <tr>\n",
       "      <th>...</th>\n",
       "      <td>...</td>\n",
       "      <td>...</td>\n",
       "      <td>...</td>\n",
       "      <td>...</td>\n",
       "      <td>...</td>\n",
       "      <td>...</td>\n",
       "    </tr>\n",
       "    <tr>\n",
       "      <th>518</th>\n",
       "      <td>240</td>\n",
       "      <td>100.341</td>\n",
       "      <td>608.304</td>\n",
       "      <td>[500.0, 716.6075596387113]</td>\n",
       "      <td>[180.846649169922, 181.7938742229098, 182.7410...</td>\n",
       "      <td>[99.01490275322051, 99.72250252270435, 96.8679...</td>\n",
       "    </tr>\n",
       "    <tr>\n",
       "      <th>519</th>\n",
       "      <td>280</td>\n",
       "      <td>99.1626</td>\n",
       "      <td>603.964</td>\n",
       "      <td>[530.6238669557937, 677.3046357047076]</td>\n",
       "      <td>[180.846649169922, 181.7938742229098, 182.7410...</td>\n",
       "      <td>[89.0600106213489, 92.77807063784924, 95.45712...</td>\n",
       "    </tr>\n",
       "    <tr>\n",
       "      <th>520</th>\n",
       "      <td>240</td>\n",
       "      <td>98.8033</td>\n",
       "      <td>523.854</td>\n",
       "      <td>[450.51360094677136, 597.1943696956853]</td>\n",
       "      <td>[180.846649169922, 181.7938742229098, 182.7410...</td>\n",
       "      <td>[94.85205677171037, 94.95456719273075, 95.5303...</td>\n",
       "    </tr>\n",
       "    <tr>\n",
       "      <th>521</th>\n",
       "      <td>280</td>\n",
       "      <td>98.7836</td>\n",
       "      <td>575.004</td>\n",
       "      <td>[508.057594840576, 641.9508093908667]</td>\n",
       "      <td>[180.846649169922, 181.7938742229098, 182.7410...</td>\n",
       "      <td>[98.74061516105594, 98.48192771084338, 97.1045...</td>\n",
       "    </tr>\n",
       "    <tr>\n",
       "      <th>522</th>\n",
       "      <td>300</td>\n",
       "      <td>99.745</td>\n",
       "      <td>478.721</td>\n",
       "      <td>[386.1997254184015, 571.2431567631852]</td>\n",
       "      <td>[180.846649169922, 181.7938742229098, 182.7410...</td>\n",
       "      <td>[98.11069717935072, 98.2342248766554, 98.35852...</td>\n",
       "    </tr>\n",
       "  </tbody>\n",
       "</table>\n",
       "<p>523 rows × 6 columns</p>\n",
       "</div>"
      ],
      "text/plain": [
       "    Excitation Baseline     Peak                              FWHM points  \\\n",
       "0          400   98.744  548.301   [513.3230583341267, 583.2785018913012]   \n",
       "1          260  97.5492  602.366    [493.7656225009383, 710.965991609907]   \n",
       "2          300  97.9996  458.788  [392.96960705296664, 524.6061943917355]   \n",
       "3          200   99.756  578.055               [526.1106125327501, 630.0]   \n",
       "4          220  98.4472  622.334    [534.4311231044703, 710.237529754083]   \n",
       "..         ...      ...      ...                                      ...   \n",
       "518        240  100.341  608.304               [500.0, 716.6075596387113]   \n",
       "519        280  99.1626  603.964   [530.6238669557937, 677.3046357047076]   \n",
       "520        240  98.8033  523.854  [450.51360094677136, 597.1943696956853]   \n",
       "521        280  98.7836  575.004    [508.057594840576, 641.9508093908667]   \n",
       "522        300   99.745  478.721   [386.1997254184015, 571.2431567631852]   \n",
       "\n",
       "                                                 Xdata  \\\n",
       "0    [180.846649169922, 181.7938742229098, 182.7410...   \n",
       "1    [180.846649169922, 181.7938742229098, 182.7410...   \n",
       "2    [180.846649169922, 181.7938742229098, 182.7410...   \n",
       "3    [180.846649169922, 181.7938742229098, 182.7410...   \n",
       "4    [180.846649169922, 181.7938742229098, 182.7410...   \n",
       "..                                                 ...   \n",
       "518  [180.846649169922, 181.7938742229098, 182.7410...   \n",
       "519  [180.846649169922, 181.7938742229098, 182.7410...   \n",
       "520  [180.846649169922, 181.7938742229098, 182.7410...   \n",
       "521  [180.846649169922, 181.7938742229098, 182.7410...   \n",
       "522  [180.846649169922, 181.7938742229098, 182.7410...   \n",
       "\n",
       "                                          Reflectivity  \n",
       "0    [98.67197875166002, 99.57503320053121, 100.424...  \n",
       "1    [93.605220228385, 93.24236517218974, 94.383878...  \n",
       "2    [94.84561752988047, 93.32674246169056, 92.4626...  \n",
       "3    [99.20191540303273, 99.62294640452464, 101.433...  \n",
       "4    [98.95517867958813, 98.0398024839144, 98.50237...  \n",
       "..                                                 ...  \n",
       "518  [99.01490275322051, 99.72250252270435, 96.8679...  \n",
       "519  [89.0600106213489, 92.77807063784924, 95.45712...  \n",
       "520  [94.85205677171037, 94.95456719273075, 95.5303...  \n",
       "521  [98.74061516105594, 98.48192771084338, 97.1045...  \n",
       "522  [98.11069717935072, 98.2342248766554, 98.35852...  \n",
       "\n",
       "[523 rows x 6 columns]"
      ]
     },
     "execution_count": 392,
     "metadata": {},
     "output_type": "execute_result"
    }
   ],
   "source": [
    "df"
   ]
  },
  {
   "cell_type": "code",
   "execution_count": 4,
   "metadata": {},
   "outputs": [],
   "source": [
    "#ML objective: learn to predict correct baseline constant (for test spectras) based on Reflectivity spectras and correct baseline values (train)"
   ]
  },
  {
   "cell_type": "code",
   "execution_count": 395,
   "metadata": {},
   "outputs": [],
   "source": [
    "x_sufl = df[\"Reflectivity\"] #Separate just the input values from the dictionary\n",
    "y_sufl = df[\"Baseline\"]"
   ]
  },
  {
   "cell_type": "code",
   "execution_count": 396,
   "metadata": {},
   "outputs": [],
   "source": [
    "x_sufl_arr = pd.DataFrame(x_sufl.to_list()) #separating data to individual \"cells\""
   ]
  },
  {
   "cell_type": "code",
   "execution_count": 397,
   "metadata": {},
   "outputs": [],
   "source": [
    "x_sufl_train = x_sufl_arr.head(419) #divide data to train and test sets\n",
    "x_sufl_test = x_sufl_arr.tail(104)\n",
    "y_sufl_train = y_sufl.head(419)\n",
    "y_sufl_test = y_sufl.tail(104)\n"
   ]
  },
  {
   "cell_type": "code",
   "execution_count": 12,
   "metadata": {},
   "outputs": [],
   "source": []
  },
  {
   "cell_type": "code",
   "execution_count": null,
   "metadata": {},
   "outputs": [],
   "source": []
  },
  {
   "cell_type": "code",
   "execution_count": 398,
   "metadata": {},
   "outputs": [
    {
     "data": {
      "image/png": "[encoded data removed]",
      "text/plain": [
       "<Figure size 432x288 with 1 Axes>"
      ]
     },
     "metadata": {
      "needs_background": "light"
     },
     "output_type": "display_data"
    },
    {
     "name": "stdout",
     "output_type": "stream",
     "text": [
      "Mean value of baselines in dataset: 99.51 eV\n"
     ]
    }
   ],
   "source": [
    "#Visualize data with histograms (whole data and then train and test to see that they represent well)\n",
    "plt.hist(y_sufl, bins=20, density=False, facecolor='blue')\n",
    "plt.xlabel(\"Intencity\")\n",
    "plt.ylabel(\"Number of baselines\")\n",
    "plt.title(\"Distribution of baselines\")\n",
    "plt.show()\n",
    "\n",
    "## mean value of distribution\n",
    "print(\"Mean value of baselines in dataset: %0.2f eV\" %np.mean(y_sufl))"
   ]
  },
  {
   "cell_type": "code",
   "execution_count": 399,
   "metadata": {},
   "outputs": [
    {
     "data": {
      "image/png": "[encoded data removed]",
      "text/plain": [
       "<Figure size 432x288 with 1 Axes>"
      ]
     },
     "metadata": {
      "needs_background": "light"
     },
     "output_type": "display_data"
    },
    {
     "name": "stdout",
     "output_type": "stream",
     "text": [
      "Mean value of baselines in training set: 99.53 eV\n",
      "Mean value of baselines in test set: 99.42 eV\n"
     ]
    }
   ],
   "source": [
    "plt.hist(y_sufl_test, bins=20, density=False, alpha=0.5, facecolor='red', label='test set')\n",
    "plt.hist(y_sufl_train, bins=20, density=False, alpha=0.5, facecolor='gray', label='training set')\n",
    "plt.xlabel(\"Intencity (Abs)\")\n",
    "plt.ylabel(\"Number of baselines\")\n",
    "plt.legend()\n",
    "plt.show()\n",
    "\n",
    "## mean value of distributions\n",
    "print(\"Mean value of baselines in training set: %0.2f eV\" %np.mean(y_sufl_train))\n",
    "print(\"Mean value of baselines in test set: %0.2f eV\" %np.mean(y_sufl_test))"
   ]
  },
  {
   "cell_type": "code",
   "execution_count": 400,
   "metadata": {},
   "outputs": [],
   "source": [
    "# Instantiate a Gaussian Process model\n",
    "kernel = C(30, (1e-3, 1e3)) * RBF(100, (1e-4, 1e4))\n",
    "#kernel = C(1.0, (1e-3, 1e3)) * RBF(10, (1e-2, 1e2))\n",
    "gp = GaussianProcessRegressor(kernel=kernel, n_restarts_optimizer=2, alpha=0.1) "
   ]
  },
  {
   "cell_type": "code",
   "execution_count": 401,
   "metadata": {},
   "outputs": [],
   "source": [
    "# Notes from hyperparameter optimization:\n",
    "#kernel = C(1.0, (1e-3, 1e3)) * RBF(10, (1e-2, 1e2)) --> 18.5**2 * RBF(length_scale=100) --> MAE= 1.1554\n",
    "#kernel = C(1.0) * RBF(10) --> 47.4**2 * RBF(length_scale=470) --> MAE= 0.8643\n",
    "#kernel = C(1.0, (1e-3, 1e3)) * RBF(10, (1e-3, 1e3)) --> 31.6**2 * RBF(length_scale=328) --> MAE= 0.8431\n",
    "#kernel = C(1.0, (1e-3, 1e3)) * RBF(1, (1e-3, 1e3)) --> 31.6**2 * RBF(length_scale=328) --> MAE= 0.8431\n",
    "#kernel = C(10, (1e-3, 1e3)) * RBF(1, (1e-3, 1e3)) --> 31.6**2 * RBF(length_scale=328) --> MAE= 0.8431\n",
    "#kernel = C(10, (1e-3, 1e3)) * RBF(10, (1e-3, 1e3)) --> 31.6**2 * RBF(length_scale=328) --> MAE= 0.8431\n",
    "#kernel = C(10, (1e-3, 1e3)) * RBF(100, (1e-3, 1e3)) --> 31.6**2 * RBF(length_scale=328) --> MAE= 0.8431\n",
    "#kernel = C(30, (1e-3, 1e3)) * RBF(100, (1e-3, 1e3)) --> 31.6**2 * RBF(length_scale=328) --> MAE= 0.8431\n",
    "#kernel = C(30, (1e-3, 1e3)) * RBF(300, (1e-3, 1e3)) --> 31.6**2 * RBF(length_scale=328) --> MAE= 0.8431\n",
    "#kernel = C(30, (1e-3, 1e3)) * RBF(1000, (1e-3, 1e3)) --> 31.6**2 * RBF(length_scale=328) --> MAE= 0.\n",
    "#kernel = C(30, (1e-3, 1e3)) * RBF(300, (1e-3, 1e3)) --> 31.6**2 * RBF(length_scale=1.86), alpha=10e-4 --> MAE= 99.42995\n",
    "#kernel = C(30, (1e-3, 1e3)) * RBF(10, (1e-3, 1e3)) --> 31.6**2 * RBF(length_scale=211), alpha=10e-4 --> MAE= 1.1251\n",
    "#kernel = C(30, (1e-3, 1e3)) * RBF(100, (1e-3, 1e3)) --> 31.6**2 * RBF(length_scale=211), alpha=10e-4 --> MAE= 1.1251\n",
    "#kernel = C(30, (1e-3, 1e3)) * RBF(100, (1e-3, 1e3)) --> 31.6**2 * RBF(length_scale=213), alpha=10e-3 --> MAE= 1.1195\n",
    "#kernel = C(30, (1e-3, 1e3)) * RBF(500, (1e-3, 1e3)) --> 31.6**2 * RBF(length_scale=213), aplha=10e-3 --> MAE= 1.1195\n",
    "#kernel = C(30, (1e-3, 1e3)) * RBF(1000, (1e-4, 1e4)) --> 31.6**2 * RBF(length_scale=213), alpha=10e-3 --> MAE= 1.1195\n",
    "#kernel = C(30, (1e-3, 1e3)) * RBF(100, (1e-3, 1e3)) --> 31.6**2 * RBF(length_scale=236), alpha=10e-2 --> MAE=1.0550\n",
    "#kernel = C(30, (1e-3, 1e3)) * RBF(1000, (1e-4, 1e4)) --> 31.6**2 * RBF(length_scale=236), alpha=10e-2, restart=3 --> MAE= 1.0550\n",
    "#kernel = C(30, (1e-3, 1e3)) * RBF(100, (1e-3, 1e3)) --> 31.6**2 * RBF(length_scale=854), alpha=10e-1, restrat=2 --> MAE=0.47648\n",
    "#kernel = C(30, (1e-3, 1e3)) * RBF(100, (1e-3, 1e3)) --> 31.6**2 * RBF(length_scale=1e+03), alpha=10e0 --> MAE=0.4422\n",
    "#kernel = C(30, (1e-3, 1e3)) * RBF(100, (1e-4, 1e4)) --> 31.6**2 * RBF(length_scale=2.43e+03), alpha=10e0 --> MAE=0.44276\n",
    "#kernel = C(30, (1e-3, 1e3)) * RBF(1000, (1e-4, 1e4)) --> 31.6**2 * RBF(length_scale=2.43e+03), alpha=10e0 --> MAE=0.44276\n",
    "#kernel = C(30, (1e-3, 1e3)) * RBF(1000, (1e-4, 1e4)) --> 31.6**2 * RBF(length_scale=5.83e+03), alpha=10e1 --> MAE=0.69305\n",
    "#kernel = C(30, (1e-3, 1e3)) * RBF(1000, (1e-4, 1e4)) --> 31.6**2 * RBF(length_scale=1e+04), alpha=10e2 --> MAE=0.7594\n",
    "#kernel = C(30, (1e-3, 1e3)) * RBF(1000, (1e-5, 1e5)) --> 31.6**2 * RBF(length_scale=1e+05), alpha=10e2 --> MAE=0.7629"
   ]
  },
  {
   "cell_type": "code",
   "execution_count": 402,
   "metadata": {},
   "outputs": [
    {
     "data": {
      "text/plain": [
       "GaussianProcessRegressor(alpha=0.1, kernel=5.48**2 * RBF(length_scale=100),\n",
       "                         n_restarts_optimizer=2)"
      ]
     },
     "execution_count": 402,
     "metadata": {},
     "output_type": "execute_result"
    }
   ],
   "source": [
    "gp.fit(x_sufl_train, y_sufl_train)\n"
   ]
  },
  {
   "cell_type": "code",
   "execution_count": 403,
   "metadata": {},
   "outputs": [
    {
     "data": {
      "text/plain": [
       "31.6**2 * RBF(length_scale=272)"
      ]
     },
     "execution_count": 403,
     "metadata": {},
     "output_type": "execute_result"
    }
   ],
   "source": [
    "# print(gp) \n",
    "gp.get_params\n",
    "gp.kernel_ #see how the parameters ended up after automatic optimization"
   ]
  },
  {
   "cell_type": "code",
   "execution_count": 404,
   "metadata": {},
   "outputs": [],
   "source": [
    "\n",
    "\n",
    "y_pred, sigma = gp.predict(x_sufl_test, return_std=True)\n",
    "#print(sigma)\n",
    "\n",
    "#print(y_pred)\n",
    "#print(np.concatenate([y_pred - 1.9600 * sigma, (y_pred + 1.9600 * sigma)[::-1]]))"
   ]
  },
  {
   "cell_type": "code",
   "execution_count": 405,
   "metadata": {},
   "outputs": [
    {
     "name": "stdout",
     "output_type": "stream",
     "text": [
      "MAE:\n",
      "1.156230549158388\n"
     ]
    }
   ],
   "source": [
    "#Mean absolute error:\n",
    "print(\"MAE:\")\n",
    "print(np.abs(y_pred-y_sufl_test).mean())"
   ]
  },
  {
   "cell_type": "code",
   "execution_count": 406,
   "metadata": {},
   "outputs": [],
   "source": [
    "#alpha=0.0001 --> MAE=1.12566\n",
    "#alpha=0.001 --> MAE=1.12511\n",
    "#alpha=0.01 --> MAE=1.119503\n",
    "#alpha=0.1 --> MAE=1.05502\n",
    "#alpha=1 --> MAE=0.476477\n",
    "#alpha=10 --> MAE0.44221, proper limits --> MAE=0.44276\n",
    "#alpha=100 --> MAE=0.50916, proper limits --> MAE=0.693046"
   ]
  },
  {
   "cell_type": "code",
   "execution_count": 407,
   "metadata": {},
   "outputs": [
    {
     "data": {
      "image/png": "[encoded data removed]",
      "text/plain": [
       "<Figure size 432x288 with 1 Axes>"
      ]
     },
     "metadata": {
      "needs_background": "light"
     },
     "output_type": "display_data"
    },
    {
     "name": "stdout",
     "output_type": "stream",
     "text": [
      "Range of baseline values in test set: 14.04 and noise alpha 10 is 71.22 % of it.\n"
     ]
    }
   ],
   "source": [
    "#How the noise value alpha affects the MAE: --> since the range of baseline values is only ~10, the noise can be max 0.1\n",
    "alpha = [0.0001,0.001,0.01,0.1,1,10,100]\n",
    "MAE = [1.12566, 1.12511, 1.11950, 1.05502, 0.47648, 0.44276, 0.69305]\n",
    "plt.plot(alpha, MAE, 'o')\n",
    "plt.xscale('log')\n",
    "plt.xlabel('noise alpha')\n",
    "plt.ylabel('MAE')\n",
    "plt.show()\n",
    "\n",
    "rangen=np.max(y_sufl_test)-np.min(y_sufl_test)\n",
    "nfr = 10/rangen*100\n",
    "#print(nfr)\n",
    "#print(rangen)\n",
    "print(\"Range of baseline values in test set: %0.2f and noise alpha 10 is %0.2f %% of it.\" % (rangen, nfr))"
   ]
  },
  {
   "cell_type": "code",
   "execution_count": 408,
   "metadata": {},
   "outputs": [
    {
     "data": {
      "image/png": "[encoded data removed]",
      "text/plain": [
       "<Figure size 432x288 with 1 Axes>"
      ]
     },
     "metadata": {
      "needs_background": "light"
     },
     "output_type": "display_data"
    },
    {
     "name": "stdout",
     "output_type": "stream",
     "text": [
      "0.9911602022518967\n"
     ]
    }
   ],
   "source": [
    "#Plotting the results of prediction:\n",
    "plt.plot(y_sufl_test, y_pred, 'o')\n",
    "plt.plot([np.min(y_sufl_test),np.max(y_sufl_test)], [np.min(y_sufl_test),np.max(y_sufl_test)], '-')\n",
    "plt.xlabel('reference baseline value')\n",
    "plt.ylabel('predicted baseline value')\n",
    "plt.show()\n",
    "R_score = gp.score(x_sufl_train, y_sufl_train)\n",
    "print(R_score)"
   ]
  },
  {
   "cell_type": "code",
   "execution_count": 409,
   "metadata": {},
   "outputs": [],
   "source": [
    "# Results from data suffling (cross-validation):\n",
    "#kernel = C(30, (1e-3, 1e3)) * RBF(100, (1e-4, 1e4)), alpha=0.1, MAE=1.055, R2=0.994\n",
    "#suffling data:\n",
    "#MAE=1.117, R2=0.993\n",
    "#MAE=1.053, R2=0.991\n",
    "#MAE=1.028, R2=0.994"
   ]
  },
  {
   "cell_type": "code",
   "execution_count": null,
   "metadata": {},
   "outputs": [],
   "source": []
  },
  {
   "cell_type": "code",
   "execution_count": 49,
   "metadata": {},
   "outputs": [],
   "source": []
  },
  {
   "cell_type": "code",
   "execution_count": null,
   "metadata": {},
   "outputs": [],
   "source": []
  },
  {
   "cell_type": "code",
   "execution_count": null,
   "metadata": {},
   "outputs": [],
   "source": []
  },
  {
   "cell_type": "code",
   "execution_count": null,
   "metadata": {},
   "outputs": [],
   "source": []
  },
  {
   "cell_type": "code",
   "execution_count": null,
   "metadata": {},
   "outputs": [],
   "source": []
  },
  {
   "cell_type": "code",
   "execution_count": null,
   "metadata": {},
   "outputs": [],
   "source": []
  },
  {
   "cell_type": "code",
   "execution_count": null,
   "metadata": {},
   "outputs": [],
   "source": []
  },
  {
   "cell_type": "code",
   "execution_count": null,
   "metadata": {},
   "outputs": [],
   "source": []
  }
 ],
 "metadata": {
  "kernelspec": {
   "display_name": "Python 3",
   "language": "python",
   "name": "python3"
  },
  "language_info": {
   "codemirror_mode": {
    "name": "ipython",
    "version": 3
   },
   "file_extension": ".py",
   "mimetype": "text/x-python",
   "name": "python",
   "nbconvert_exporter": "python",
   "pygments_lexer": "ipython3",
   "version": "3.8.5"
  }
 },
 "nbformat": 4,
 "nbformat_minor": 4
}
