{
 "cells": [
  {
   "cell_type": "code",
   "execution_count": 23,
   "metadata": {},
   "outputs": [],
   "source": [
    "import numpy as np\n",
    "from matplotlib import pyplot as plt\n",
    "import pandas as pd\n",
    "\n",
    "from sklearn.gaussian_process import GaussianProcessRegressor\n",
    "from sklearn.gaussian_process.kernels import RBF, ConstantKernel as C\n",
    "from GimmePandas import ReadToPandas"
   ]
  },
  {
   "cell_type": "code",
   "execution_count": 267,
   "metadata": {},
   "outputs": [
    {
     "name": "stdout",
     "output_type": "stream",
     "text": [
      "['../Data/TenExSpectra_JSON/001.json', '../Data/TenExSpectra_JSON/002.json', '../Data/TenExSpectra_JSON/003.json', '../Data/TenExSpectra_JSON/004.json', '../Data/TenExSpectra_JSON/005.json', '../Data/TenExSpectra_JSON/006.json', '../Data/TenExSpectra_JSON/007.json', '../Data/TenExSpectra_JSON/008.json', '../Data/TenExSpectra_JSON/009.json', '../Data/TenExSpectra_JSON/010.json', '../Data/TenExSpectra_JSON/011.json', '../Data/TenExSpectra_JSON/012.json', '../Data/TenExSpectra_JSON/013.json', '../Data/TenExSpectra_JSON/014.json', '../Data/TenExSpectra_JSON/015.json', '../Data/TenExSpectra_JSON/016.json', '../Data/TenExSpectra_JSON/017.json', '../Data/TenExSpectra_JSON/019.json', '../Data/TenExSpectra_JSON/020.json', '../Data/TenExSpectra_JSON/021.json', '../Data/TenExSpectra_JSON/022.json', '../Data/TenExSpectra_JSON/023.json', '../Data/TenExSpectra_JSON/024.json', '../Data/TenExSpectra_JSON/025.json', '../Data/TenExSpectra_JSON/026.json', '../Data/TenExSpectra_JSON/027.json', '../Data/TenExSpectra_JSON/028.json', '../Data/TenExSpectra_JSON/029.json', '../Data/TenExSpectra_JSON/030.json', '../Data/TenExSpectra_JSON/031.json', '../Data/TenExSpectra_JSON/032.json', '../Data/TenExSpectra_JSON/033.json', '../Data/TenExSpectra_JSON/034.json', '../Data/TenExSpectra_JSON/035.json', '../Data/TenExSpectra_JSON/036.json', '../Data/TenExSpectra_JSON/037.json', '../Data/TenExSpectra_JSON/038.json', '../Data/TenExSpectra_JSON/039.json', '../Data/TenExSpectra_JSON/041.json', '../Data/TenExSpectra_JSON/042.json', '../Data/TenExSpectra_JSON/044.json', '../Data/TenExSpectra_JSON/045.json', '../Data/TenExSpectra_JSON/046.json', '../Data/TenExSpectra_JSON/047.json', '../Data/TenExSpectra_JSON/048.json', '../Data/TenExSpectra_JSON/049.json', '../Data/TenExSpectra_JSON/050.json', '../Data/TenExSpectra_JSON/051.json', '../Data/TenExSpectra_JSON/052.json', '../Data/TenExSpectra_JSON/053.json', '../Data/TenExSpectra_JSON/054.json', '../Data/TenExSpectra_JSON/055.json']\n",
      "52\n"
     ]
    }
   ],
   "source": [
    "#Using only the working files (filtering problem files out)\n",
    "correct_files = []\n",
    "for i in range (1,56):\n",
    "    if i<10:\n",
    "        a = \"../Data/TenExSpectra_JSON/00\"+str(i)+\".json\"\n",
    "    elif i==18 or i==40 or i==43:\n",
    "        continue\n",
    "    else:\n",
    "        a = \"../Data/TenExSpectra_JSON/0\"+str(i)+\".json\"\n",
    "    correct_files.append(a)\n",
    "print(correct_files)\n",
    "print(len(correct_files))"
   ]
  },
  {
   "cell_type": "code",
   "execution_count": 268,
   "metadata": {},
   "outputs": [
    {
     "name": "stdout",
     "output_type": "stream",
     "text": [
      "Dataframe loaded\n"
     ]
    }
   ],
   "source": [
    "data = ReadToPandas(correct_files)\n",
    "\n",
    "origdata = data\n",
    "df = data.sample(frac=1).reset_index(drop=True) #Randomize the order of data to avoid biases in train and test sets"
   ]
  },
  {
   "cell_type": "code",
   "execution_count": 26,
   "metadata": {},
   "outputs": [
    {
     "name": "stdout",
     "output_type": "stream",
     "text": [
      "(523, 6)\n"
     ]
    }
   ],
   "source": [
    "print(df.shape)"
   ]
  },
  {
   "cell_type": "code",
   "execution_count": null,
   "metadata": {},
   "outputs": [],
   "source": []
  },
  {
   "cell_type": "code",
   "execution_count": 269,
   "metadata": {},
   "outputs": [],
   "source": [
    "x_sufl = df[\"Xdata\"] #Extract only needed information from dictionary\n",
    "y_sufl = df[\"Reflectivity\"]\n",
    "bl = df[\"Baseline\"]"
   ]
  },
  {
   "cell_type": "code",
   "execution_count": 199,
   "metadata": {},
   "outputs": [
    {
     "data": {
      "text/plain": [
       "0      99.9559\n",
       "1      99.9301\n",
       "2      98.1154\n",
       "3      99.2432\n",
       "4      100.033\n",
       "        ...   \n",
       "518     99.756\n",
       "519    99.8476\n",
       "520    99.5225\n",
       "521    99.7141\n",
       "522     99.745\n",
       "Name: Baseline, Length: 523, dtype: object"
      ]
     },
     "execution_count": 199,
     "metadata": {},
     "output_type": "execute_result"
    }
   ],
   "source": [
    "bl"
   ]
  },
  {
   "cell_type": "code",
   "execution_count": 270,
   "metadata": {},
   "outputs": [],
   "source": [
    "x_sufl_arr = pd.DataFrame(x_sufl.to_list()) #Separate values into individual values data format\n",
    "y_sufl_arr = pd.DataFrame(y_sufl.to_list())"
   ]
  },
  {
   "cell_type": "code",
   "execution_count": 271,
   "metadata": {},
   "outputs": [],
   "source": [
    "x_sufl_train = x_sufl_arr.head(419) #Divide data into train and test set (was tried to use in the whole spectra prediction, but at the end then not used sucesfully)\n",
    "x_sufl_test = x_sufl_arr.tail(104)\n",
    "y_sufl_train = y_sufl_arr.head(419)\n",
    "y_sufl_test = y_sufl_arr.tail(104)\n"
   ]
  },
  {
   "cell_type": "code",
   "execution_count": null,
   "metadata": {},
   "outputs": [],
   "source": []
  },
  {
   "cell_type": "code",
   "execution_count": 272,
   "metadata": {},
   "outputs": [
    {
     "name": "stdout",
     "output_type": "stream",
     "text": [
      "StandardScaler()\n",
      "Means:\n",
      "[97.48176207 97.51589909 97.41253034 ... 98.92403732 98.93200022\n",
      " 98.89390015]\n",
      "Scales:\n",
      "[3.27108351 3.25388042 3.28559307 ... 1.53583858 1.46615973 1.51600831]\n",
      "[[-0.49537543 -0.69548202 -0.88150219 ... -0.23371689 -0.32500063\n",
      "  -0.11510344]\n",
      " [-0.78313388 -0.58906027 -0.61371469 ...  0.14000055 -0.36144188\n",
      "  -0.05762714]\n",
      " [ 0.28039621  0.93713287  0.62796068 ...  0.71469708  0.81227067\n",
      "   1.58607133]\n",
      " ...\n",
      " [-0.10400902 -0.84966435 -1.12154235 ... -0.61101852 -1.28871841\n",
      "  -0.71018881]\n",
      " [ 1.61538664  0.23858314  0.57138363 ... -0.14570025 -0.56128212\n",
      "  -1.13208987]\n",
      " [-0.38098207 -0.44135946 -0.80280594 ... -0.49811816 -0.50243311\n",
      "  -0.56664098]]\n",
      "           0           1          2           3           4           5     \\\n",
      "0     95.861348   95.252884  94.516273   95.556546   96.537376   97.468930   \n",
      "1     94.920066   95.599167  95.396114   95.244504   97.665370   95.236686   \n",
      "2     98.398961  100.565217  99.475754   99.916283   99.752781   97.080292   \n",
      "3    100.231817   98.996376  98.662953   98.267188   98.787366   97.466263   \n",
      "4     99.826339   98.833238  98.178762   98.695893   98.191285   99.236849   \n",
      "..          ...         ...        ...         ...         ...         ...   \n",
      "414   97.138529   97.510513  97.085762   97.431193   97.876224   98.053245   \n",
      "415  100.166320  102.380952  98.573826  100.358995  103.243671  100.238663   \n",
      "416   97.141540   94.751193  93.727599   95.938280   94.772118   96.872860   \n",
      "417  102.765827   98.292220  99.289864   95.958359   96.177559   98.168931   \n",
      "418   96.235538   96.079768  94.774837   96.713215   95.642553   96.060969   \n",
      "\n",
      "           6           7           8           9     ...        1014  \\\n",
      "0     95.332349   95.434265   96.928783   96.917757  ...   99.435321   \n",
      "1     95.528335   94.635225   96.330412   94.859186  ...   98.937970   \n",
      "2     99.157185  100.248653  100.000000   96.948161  ...  100.664724   \n",
      "3    101.047565   96.413043   97.778387   97.879372  ...   98.550725   \n",
      "4    100.626191  102.200557  101.578807  100.540687  ...  100.513699   \n",
      "..          ...         ...         ...         ...  ...         ...   \n",
      "414   99.387214   98.842864   99.585818   98.577168  ...   99.264852   \n",
      "415  102.615447   97.919937  100.548804  100.527812  ...  100.702893   \n",
      "416   96.465458   94.896367   98.495719   97.071709  ...   98.456819   \n",
      "417   99.454876   99.175127   95.936396  100.370370  ...   98.355413   \n",
      "418   95.936486   97.527707   97.141885   96.275414  ...   97.820199   \n",
      "\n",
      "           1015        1016        1017        1018        1019        1020  \\\n",
      "0     98.992679   99.274580   98.043687   98.809669   98.672374   99.055048   \n",
      "1     98.487981   98.260294   98.439508   98.402180   98.210024   98.692140   \n",
      "2    101.066494  101.046921  100.369506  100.525950  100.656747  100.063145   \n",
      "3     99.249081   97.823775   98.300850   98.213981   97.909194   98.734518   \n",
      "4     99.625062   99.345238   99.877590  100.205651   99.668325  100.234874   \n",
      "..          ...         ...         ...         ...         ...         ...   \n",
      "414   99.402002   99.252006  100.417740   99.803288  100.200186   99.492754   \n",
      "415  100.796266   99.365198  101.189785   99.552006  101.230175  100.104362   \n",
      "416   98.209405   98.497895   97.530626   98.354680   98.403034   97.361237   \n",
      "417   97.739581   97.729932   96.550072   97.971156   97.007481   97.647660   \n",
      "418   98.609424   98.443286   98.298020   98.252018   99.378433   98.813164   \n",
      "\n",
      "           1021        1022        1023  \n",
      "0     98.565086   98.455497   98.719402  \n",
      "1     99.139056   98.402069   98.806537  \n",
      "2    100.021697  100.122919  101.298397  \n",
      "3     97.774303   98.424974   98.486025  \n",
      "4    100.038790  100.735440  100.162750  \n",
      "..          ...         ...         ...  \n",
      "414   99.163954   99.774130   98.980446  \n",
      "415  101.229773   99.867856  100.400641  \n",
      "416   97.985612   97.042533   97.817248  \n",
      "417   98.700265   98.109071   97.177643  \n",
      "418   98.159008   98.195353   98.034868  \n",
      "\n",
      "[419 rows x 1024 columns]\n"
     ]
    }
   ],
   "source": [
    "#Tried normalizing the data to improve the whole spectra fittinig but at the end not used for working solutions\n",
    "from sklearn import preprocessing\n",
    "scaler = preprocessing.StandardScaler().fit(y_sufl_train)\n",
    "print(scaler)\n",
    "scaler.mean_\n",
    "print(\"Means:\")\n",
    "print(scaler.mean_)\n",
    "scaler.scale_\n",
    "print(\"Scales:\")\n",
    "print(scaler.scale_)\n",
    "y_scaled = scaler.transform(y_sufl_train)\n",
    "print(y_scaled)\n",
    "print(y_sufl_train)"
   ]
  },
  {
   "cell_type": "code",
   "execution_count": null,
   "metadata": {},
   "outputs": [],
   "source": []
  },
  {
   "cell_type": "code",
   "execution_count": null,
   "metadata": {},
   "outputs": [],
   "source": []
  },
  {
   "cell_type": "code",
   "execution_count": 273,
   "metadata": {},
   "outputs": [],
   "source": [
    "# Instantiate a Gaussian Process model\n",
    "kernel = C(10, (1e-3, 1e3)) * RBF(100, (1e-3, 1e3))\n",
    "gp = GaussianProcessRegressor(kernel=kernel, n_restarts_optimizer=1, alpha=0.3) #original 9"
   ]
  },
  {
   "cell_type": "code",
   "execution_count": 274,
   "metadata": {},
   "outputs": [],
   "source": [
    "#Fitting the individual spectras (smoothening the curves) and going through 100 of them with for-loop\n",
    "idx = 0\n",
    "errors = []"
   ]
  },
  {
   "cell_type": "code",
   "execution_count": 276,
   "metadata": {},
   "outputs": [
    {
     "name": "stdout",
     "output_type": "stream",
     "text": [
      "0\n",
      "1\n",
      "2\n",
      "3\n",
      "4\n",
      "5\n",
      "6\n",
      "7\n",
      "8\n",
      "9\n",
      "10\n",
      "11\n",
      "12\n",
      "13\n",
      "14\n",
      "15\n",
      "16\n",
      "17\n",
      "18\n",
      "19\n",
      "20\n",
      "21\n",
      "22\n",
      "23\n",
      "24\n",
      "25\n",
      "26\n",
      "27\n",
      "28\n",
      "29\n",
      "30\n",
      "31\n",
      "32\n",
      "33\n",
      "34\n",
      "35\n",
      "36\n",
      "37\n",
      "38\n",
      "39\n",
      "40\n",
      "41\n",
      "42\n",
      "43\n",
      "44\n"
     ]
    },
    {
     "name": "stderr",
     "output_type": "stream",
     "text": [
      "C:\\ProgramData\\Anaconda3\\lib\\site-packages\\sklearn\\gaussian_process\\_gpr.py:504: ConvergenceWarning: lbfgs failed to converge (status=2):\n",
      "ABNORMAL_TERMINATION_IN_LNSRCH.\n",
      "\n",
      "Increase the number of iterations (max_iter) or scale the data as shown in:\n",
      "    https://scikit-learn.org/stable/modules/preprocessing.html\n",
      "  _check_optimize_result(\"lbfgs\", opt_res)\n"
     ]
    },
    {
     "name": "stdout",
     "output_type": "stream",
     "text": [
      "45\n",
      "46\n",
      "47\n",
      "48\n",
      "49\n",
      "50\n",
      "51\n",
      "52\n",
      "53\n",
      "54\n",
      "55\n",
      "56\n",
      "57\n",
      "58\n",
      "59\n",
      "60\n",
      "61\n",
      "62\n",
      "63\n",
      "64\n",
      "65\n",
      "66\n",
      "67\n",
      "68\n",
      "69\n",
      "70\n",
      "71\n",
      "72\n",
      "73\n",
      "74\n",
      "75\n",
      "76\n",
      "77\n",
      "78\n",
      "79\n",
      "80\n",
      "81\n",
      "82\n",
      "83\n",
      "84\n",
      "85\n",
      "86\n",
      "87\n",
      "88\n",
      "89\n",
      "90\n",
      "91\n",
      "92\n",
      "93\n",
      "94\n",
      "95\n",
      "96\n",
      "97\n",
      "98\n",
      "99\n",
      "100\n"
     ]
    }
   ],
   "source": [
    "for idx in range(0, 101):\n",
    "    twod_x = np.atleast_2d(x_sufl_arr.to_numpy()[idx]).T\n",
    "    gp.fit(twod_x, y_sufl_arr.to_numpy()[idx])\n",
    "    y_pred, sigma = gp.predict(twod_x, return_std=True)\n",
    "    error = np.abs(max(y_pred)-bl[idx])\n",
    "    errors.append(error)\n",
    "    print(idx)"
   ]
  },
  {
   "cell_type": "code",
   "execution_count": 277,
   "metadata": {},
   "outputs": [
    {
     "name": "stdout",
     "output_type": "stream",
     "text": [
      "101\n",
      "0.5283358629382948\n",
      "0.14426723139696662\n"
     ]
    }
   ],
   "source": [
    "#MAE and median of errors:\n",
    "import statistics\n",
    "print(len(errors))\n",
    "MAE = np.mean(errors)\n",
    "print(MAE)\n",
    "med = statistics.median(errors)\n",
    "print(med)"
   ]
  },
  {
   "cell_type": "code",
   "execution_count": 278,
   "metadata": {},
   "outputs": [
    {
     "data": {
      "image/png": "[encoded data removed]",
      "text/plain": [
       "<Figure size 432x288 with 1 Axes>"
      ]
     },
     "metadata": {
      "needs_background": "light"
     },
     "output_type": "display_data"
    }
   ],
   "source": [
    "#Histogram about the distribution of errors:\n",
    "plt.hist(errors, bins=20, density=False, facecolor='blue')\n",
    "plt.xlabel(\"Error\")\n",
    "plt.ylabel(\"Number of errors\")\n",
    "plt.title(\"Distribution of errors\")\n",
    "plt.show()"
   ]
  },
  {
   "cell_type": "code",
   "execution_count": 279,
   "metadata": {},
   "outputs": [
    {
     "data": {
      "text/plain": [
       "[<matplotlib.lines.Line2D at 0x1b97cd39400>]"
      ]
     },
     "execution_count": 279,
     "metadata": {},
     "output_type": "execute_result"
    },
    {
     "data": {
      "image/png": "[encoded data removed]",
      "text/plain": [
       "<Figure size 432x288 with 1 Axes>"
      ]
     },
     "metadata": {
      "needs_background": "light"
     },
     "output_type": "display_data"
    }
   ],
   "source": [
    "#Testing and plotting the individual spectra fitting results:\n",
    "idx = 319\n",
    "errors = []\n",
    "twod_x = np.atleast_2d(x_sufl_arr.to_numpy()[idx]).T\n",
    "#print(twod_x)\n",
    "#print(y_scaled[idx])\n",
    "plt.plot(y_sufl_arr.to_numpy()[idx])"
   ]
  },
  {
   "cell_type": "code",
   "execution_count": 280,
   "metadata": {},
   "outputs": [
    {
     "data": {
      "text/plain": [
       "31.6**2 * RBF(length_scale=1e+03)"
      ]
     },
     "execution_count": 280,
     "metadata": {},
     "output_type": "execute_result"
    }
   ],
   "source": [
    "gp.fit(twod_x, y_sufl_arr.to_numpy()[idx])\n",
    "# gp.fit(twod_x, y_scaled[0])\n",
    "gp.kernel_"
   ]
  },
  {
   "cell_type": "code",
   "execution_count": 281,
   "metadata": {},
   "outputs": [
    {
     "name": "stdout",
     "output_type": "stream",
     "text": [
      "[0.07886753 0.07804918 0.07723859 ... 0.07501969 0.07575456 0.07649621]\n",
      "[[ 180.84664917]\n",
      " [ 181.79387422]\n",
      " [ 182.74106731]\n",
      " ...\n",
      " [1117.85378948]\n",
      " [1118.72873418]\n",
      " [1119.60356916]]\n",
      "[100.39729567 100.39460197 100.39191577 ...  99.8520924   99.85028973\n",
      "  99.84847821]\n",
      "[100.24271531 100.24162559 100.24052813 ... 100.54330341 100.54757836\n",
      " 100.55187604]\n",
      "100.39729567471113\n",
      "100.1021263956275\n",
      "[0.29516927908363755]\n"
     ]
    }
   ],
   "source": [
    "x = np.atleast_2d(x_sufl_arr.to_numpy()[idx]).T\n",
    "f_x = y_sufl_arr.to_numpy()[idx]\n",
    "y = f_x\n",
    "\n",
    "y_pred, sigma = gp.predict(x, return_std=True)\n",
    "print(sigma)\n",
    "print(x)\n",
    "print(y_pred)\n",
    "print(np.concatenate([y_pred - 1.9600 * sigma, (y_pred + 1.9600 * sigma)[::-1]]))\n",
    "print(max(y_pred))\n",
    "print(bl[idx])\n",
    "error = np.abs(max(y_pred)-bl[idx])\n",
    "errors.append(error)\n",
    "print(errors)"
   ]
  },
  {
   "cell_type": "code",
   "execution_count": 282,
   "metadata": {},
   "outputs": [
    {
     "data": {
      "text/plain": [
       "<matplotlib.legend.Legend at 0x1b9739e5490>"
      ]
     },
     "execution_count": 282,
     "metadata": {},
     "output_type": "execute_result"
    },
    {
     "data": {
      "image/png": "[encoded data removed]",
      "text/plain": [
       "<Figure size 432x288 with 1 Axes>"
      ]
     },
     "metadata": {
      "needs_background": "light"
     },
     "output_type": "display_data"
    }
   ],
   "source": [
    "#Plot the spectra and predicted smothened curve, also the hline for the max-value (\"predicted baseline\"), which is very close to where it really should be\n",
    "plt.plot(x, f_x, \"r:\", label=r\"Spectra\")\n",
    "\n",
    "plt.plot(x, y_pred, \"b-\", label=\"Prediction\")\n",
    "plt.fill(\n",
    "    np.concatenate([x, x[::-1]]),\n",
    "    np.concatenate([y_pred - 1.9600 * sigma, (y_pred + 1.9600 * sigma)[::-1]]),\n",
    "    alpha=0.5,\n",
    "    fc=\"b\",\n",
    "    ec=\"None\",\n",
    "    label=\"95% confidence interval\",\n",
    ")\n",
    "plt.hlines(max(y_pred), x[0], x[-1], 'k')\n",
    "plt.xlabel(\"Wavelength (nm)\")\n",
    "plt.ylabel(\"Absorbance\")\n",
    "plt.legend(loc=\"upper left\")"
   ]
  },
  {
   "cell_type": "code",
   "execution_count": null,
   "metadata": {},
   "outputs": [],
   "source": []
  },
  {
   "cell_type": "code",
   "execution_count": null,
   "metadata": {},
   "outputs": [],
   "source": []
  },
  {
   "cell_type": "code",
   "execution_count": null,
   "metadata": {},
   "outputs": [],
   "source": []
  },
  {
   "cell_type": "code",
   "execution_count": null,
   "metadata": {},
   "outputs": [],
   "source": []
  }
 ],
 "metadata": {
  "kernelspec": {
   "display_name": "Python 3",
   "language": "python",
   "name": "python3"
  },
  "language_info": {
   "codemirror_mode": {
    "name": "ipython",
    "version": 3
   },
   "file_extension": ".py",
   "mimetype": "text/x-python",
   "name": "python",
   "nbconvert_exporter": "python",
   "pygments_lexer": "ipython3",
   "version": "3.8.5"
  }
 },
 "nbformat": 4,
 "nbformat_minor": 4
}
