{
 "cells": [
  {
   "cell_type": "code",
   "execution_count": 1,
   "metadata": {},
   "outputs": [],
   "source": [
    "import numpy as np\n",
    "from matplotlib import pyplot as plt\n",
    "import pandas as pd\n",
    "\n",
    "from sklearn.gaussian_process import GaussianProcessRegressor\n",
    "from sklearn.gaussian_process.kernels import RBF, ConstantKernel as C\n",
    "from GimmePandas import ReadToPandas"
   ]
  },
  {
   "cell_type": "code",
   "execution_count": 150,
   "metadata": {},
   "outputs": [
    {
     "name": "stdout",
     "output_type": "stream",
     "text": [
      "['../Data/TenExSpectra_JSON/001.json', '../Data/TenExSpectra_JSON/002.json', '../Data/TenExSpectra_JSON/003.json', '../Data/TenExSpectra_JSON/004.json', '../Data/TenExSpectra_JSON/005.json', '../Data/TenExSpectra_JSON/006.json', '../Data/TenExSpectra_JSON/007.json', '../Data/TenExSpectra_JSON/008.json', '../Data/TenExSpectra_JSON/009.json', '../Data/TenExSpectra_JSON/010.json', '../Data/TenExSpectra_JSON/011.json', '../Data/TenExSpectra_JSON/012.json', '../Data/TenExSpectra_JSON/013.json', '../Data/TenExSpectra_JSON/014.json', '../Data/TenExSpectra_JSON/015.json', '../Data/TenExSpectra_JSON/016.json', '../Data/TenExSpectra_JSON/017.json', '../Data/TenExSpectra_JSON/019.json', '../Data/TenExSpectra_JSON/020.json', '../Data/TenExSpectra_JSON/021.json', '../Data/TenExSpectra_JSON/022.json', '../Data/TenExSpectra_JSON/023.json', '../Data/TenExSpectra_JSON/024.json', '../Data/TenExSpectra_JSON/025.json', '../Data/TenExSpectra_JSON/026.json', '../Data/TenExSpectra_JSON/027.json', '../Data/TenExSpectra_JSON/028.json', '../Data/TenExSpectra_JSON/029.json', '../Data/TenExSpectra_JSON/030.json', '../Data/TenExSpectra_JSON/031.json', '../Data/TenExSpectra_JSON/032.json', '../Data/TenExSpectra_JSON/033.json', '../Data/TenExSpectra_JSON/034.json', '../Data/TenExSpectra_JSON/035.json', '../Data/TenExSpectra_JSON/036.json', '../Data/TenExSpectra_JSON/037.json', '../Data/TenExSpectra_JSON/038.json', '../Data/TenExSpectra_JSON/039.json', '../Data/TenExSpectra_JSON/041.json', '../Data/TenExSpectra_JSON/042.json', '../Data/TenExSpectra_JSON/044.json', '../Data/TenExSpectra_JSON/045.json', '../Data/TenExSpectra_JSON/046.json', '../Data/TenExSpectra_JSON/047.json', '../Data/TenExSpectra_JSON/048.json', '../Data/TenExSpectra_JSON/049.json', '../Data/TenExSpectra_JSON/050.json', '../Data/TenExSpectra_JSON/051.json', '../Data/TenExSpectra_JSON/052.json', '../Data/TenExSpectra_JSON/053.json', '../Data/TenExSpectra_JSON/054.json', '../Data/TenExSpectra_JSON/055.json']\n",
      "52\n"
     ]
    }
   ],
   "source": [
    "#Make a list of working files and using only them (applied before modifying the problem files)\n",
    "correct_files = []\n",
    "for i in range (1,56):\n",
    "    if i<10:\n",
    "        a = \"../Data/TenExSpectra_JSON/00\"+str(i)+\".json\"\n",
    "    elif i==18 or i==40 or i==43:\n",
    "        continue\n",
    "    else:\n",
    "        a = \"../Data/TenExSpectra_JSON/0\"+str(i)+\".json\"\n",
    "    correct_files.append(a)\n",
    "print(correct_files)\n",
    "print(len(correct_files))"
   ]
  },
  {
   "cell_type": "code",
   "execution_count": 151,
   "metadata": {},
   "outputs": [
    {
     "name": "stdout",
     "output_type": "stream",
     "text": [
      "Dataframe loaded\n"
     ]
    }
   ],
   "source": [
    "data = ReadToPandas(correct_files)\n",
    "\n",
    "origdata = data\n",
    "df = data.sample(frac=1).reset_index(drop=True) #Randomize data order so that train and test sets don't have biases"
   ]
  },
  {
   "cell_type": "code",
   "execution_count": 152,
   "metadata": {},
   "outputs": [],
   "source": [
    "x_sufl = df[\"Reflectivity\"] #Take only input values from the dictionary\n",
    "y_sufl = df[\"Baseline\"]"
   ]
  },
  {
   "cell_type": "code",
   "execution_count": 153,
   "metadata": {},
   "outputs": [],
   "source": [
    "x_sufl_arr = pd.DataFrame(x_sufl.to_list()) #Separate values from one list to separate individuals"
   ]
  },
  {
   "cell_type": "code",
   "execution_count": 154,
   "metadata": {},
   "outputs": [],
   "source": [
    "x_sufl_train = x_sufl_arr.head(419) #Divide data into train and test set\n",
    "x_sufl_test = x_sufl_arr.tail(104)\n",
    "y_sufl_train = y_sufl.head(419)\n",
    "y_sufl_test = y_sufl.tail(104)\n"
   ]
  },
  {
   "cell_type": "code",
   "execution_count": 155,
   "metadata": {},
   "outputs": [
    {
     "data": {
      "image/png": "[encoded data removed]",
      "text/plain": [
       "<Figure size 432x288 with 1 Axes>"
      ]
     },
     "metadata": {
      "needs_background": "light"
     },
     "output_type": "display_data"
    },
    {
     "name": "stdout",
     "output_type": "stream",
     "text": [
      "Mean value of baselines in dataset: 99.51\n"
     ]
    }
   ],
   "source": [
    "#Visualize data with histograms (whole data and then train and test to see that they represent well)\n",
    "plt.hist(y_sufl, bins=20, density=False, facecolor='blue')\n",
    "plt.xlabel(\"Intencity\")\n",
    "plt.ylabel(\"Number of baselines\")\n",
    "plt.title(\"Distribution of baselines\")\n",
    "plt.show()\n",
    "\n",
    "## mean value of distribution\n",
    "print(\"Mean value of baselines in dataset: %0.2f\" %np.mean(y_sufl))"
   ]
  },
  {
   "cell_type": "code",
   "execution_count": 156,
   "metadata": {},
   "outputs": [
    {
     "data": {
      "image/png": "[encoded data removed]",
      "text/plain": [
       "<Figure size 432x288 with 1 Axes>"
      ]
     },
     "metadata": {
      "needs_background": "light"
     },
     "output_type": "display_data"
    },
    {
     "name": "stdout",
     "output_type": "stream",
     "text": [
      "Mean value of baselines in training set: 99.49\n",
      "Mean value of baselines in test set: 99.59\n"
     ]
    }
   ],
   "source": [
    "plt.hist(y_sufl_test, bins=20, density=False, alpha=0.5, facecolor='red', label='test set')\n",
    "plt.hist(y_sufl_train, bins=20, density=False, alpha=0.5, facecolor='gray', label='training set')\n",
    "plt.xlabel(\"Intencity (Abs)\")\n",
    "plt.ylabel(\"Number of baselines\")\n",
    "plt.legend()\n",
    "plt.show()\n",
    "\n",
    "## mean value of distributions\n",
    "print(\"Mean value of baselines in training set: %0.2f\" %np.mean(y_sufl_train))\n",
    "print(\"Mean value of baselines in test set: %0.2f\" %np.mean(y_sufl_test))"
   ]
  },
  {
   "cell_type": "code",
   "execution_count": 9,
   "metadata": {},
   "outputs": [],
   "source": [
    "#Try with different kernel: Matern 3/2\n",
    "from sklearn.gaussian_process.kernels import Matern\n",
    "\n"
   ]
  },
  {
   "cell_type": "code",
   "execution_count": 157,
   "metadata": {},
   "outputs": [],
   "source": [
    "kernel = C(10, (1e-3, 1e3)) * Matern(1000, (1e-5, 1e5), 1.5)\n",
    "gp_matern = GaussianProcessRegressor(kernel=kernel, n_restarts_optimizer=2, alpha=10e-1)"
   ]
  },
  {
   "cell_type": "code",
   "execution_count": 158,
   "metadata": {},
   "outputs": [],
   "source": [
    "# Notes from hyperparameter optimization:\n",
    "#kernel = C(1.0, (1e-3, 1e3)) * Matern(1.0, (1e-5, 1e5), 1.5) --> 31.6**2 * Matern(length_scale=634, nu=1.5) --> MAE=0.67208\n",
    "#kernel = C(10, (1e-3, 1e3)) * Matern(100, (1e-5, 1e5), 1.5) --> 31.3**2 * Matern(length_scale=630, nu=1.5) --> MAE=0.67154\n",
    "#kernel = C(10, (1e-3, 1e3)) * Matern(1000, (1e-5, 1e5), 1.5) --> 31.3**2 * Matern(length_scale=630, nu=1.5) --> MAE=0.67154\n",
    "#kernel = C(10, (1e-3, 1e3)) * Matern(1000, (1e-5, 1e5), 1.5), alpha=10e-4 --> 27.8**2 * Matern(length_scale=436, nu=1.5) --> MAE=0.73626\n",
    "#kernel = C(10, (1e-3, 1e3)) * Matern(1000, (1e-5, 1e5), 1.5), alpha=10e-3 --> 27.9**2 * Matern(length_scale=440, nu=1.5) --> MAE=0.73488\n",
    "#kernel = C(10, (1e-3, 1e3)) * Matern(100, (1e-5, 1e5), 1.5), alpha=10e-3 --> 27.9**2 * Matern(length_scale=440, nu=1.5) --> MAE=0.73488\n",
    "#kernel = C(10, (1e-3, 1e3)) * Matern(100, (1e-5, 1e5), 1.5), alpha=10e-2 --> 28.7**2 * Matern(length_scale=486, nu=1.5) --> MAE=0.71806\n",
    "#kernel = C(10, (1e-3, 1e3)) * Matern(100, (1e-5, 1e5), 1.5), alpha=10e-1 --> 31.6**2 * Matern(length_scale=1.74e+03, nu=1.5) --> MAE=0.46393\n",
    "#kernel = C(10, (1e-3, 1e3)) * Matern(100, (1e-5, 1e5), 1.5), alpha=10e0 --> 31.6**2 * Matern(length_scale=4.32e+03, nu=1.5) --> MAE=0.48743"
   ]
  },
  {
   "cell_type": "code",
   "execution_count": 159,
   "metadata": {},
   "outputs": [
    {
     "data": {
      "text/plain": [
       "GaussianProcessRegressor(alpha=1.0,\n",
       "                         kernel=3.16**2 * Matern(length_scale=1e+03, nu=1.5),\n",
       "                         n_restarts_optimizer=2)"
      ]
     },
     "execution_count": 159,
     "metadata": {},
     "output_type": "execute_result"
    }
   ],
   "source": [
    "gp_matern.fit(x_sufl_train, y_sufl_train)"
   ]
  },
  {
   "cell_type": "code",
   "execution_count": 160,
   "metadata": {},
   "outputs": [
    {
     "name": "stdout",
     "output_type": "stream",
     "text": [
      "GaussianProcessRegressor(alpha=1.0,\n",
      "                         kernel=3.16**2 * Matern(length_scale=1e+03, nu=1.5),\n",
      "                         n_restarts_optimizer=2)\n"
     ]
    },
    {
     "data": {
      "text/plain": [
       "31.6**2 * Matern(length_scale=1.69e+03, nu=1.5)"
      ]
     },
     "execution_count": 160,
     "metadata": {},
     "output_type": "execute_result"
    }
   ],
   "source": [
    "print(gp_matern) #\n",
    "gp_matern.get_params\n",
    "gp_matern.kernel_ #This shows, what are the used optimal hyperparameter values"
   ]
  },
  {
   "cell_type": "code",
   "execution_count": 161,
   "metadata": {},
   "outputs": [],
   "source": [
    "y_pred, sigma = gp_matern.predict(x_sufl_test, return_std=True)\n",
    "#print(sigma)\n",
    "\n",
    "#print(y_pred)\n",
    "#print(np.concatenate([y_pred - 1.9600 * sigma, (y_pred + 1.9600 * sigma)[::-1]]))"
   ]
  },
  {
   "cell_type": "code",
   "execution_count": 162,
   "metadata": {},
   "outputs": [
    {
     "name": "stdout",
     "output_type": "stream",
     "text": [
      "MAE:\n",
      "0.6555960508446528\n"
     ]
    }
   ],
   "source": [
    "#Mean absolute error:\n",
    "print(\"MAE:\")\n",
    "print(np.abs(y_pred-y_sufl_test).mean())"
   ]
  },
  {
   "cell_type": "code",
   "execution_count": 163,
   "metadata": {},
   "outputs": [
    {
     "data": {
      "image/png": "[encoded data removed]",
      "text/plain": [
       "<Figure size 432x288 with 1 Axes>"
      ]
     },
     "metadata": {
      "needs_background": "light"
     },
     "output_type": "display_data"
    },
    {
     "name": "stdout",
     "output_type": "stream",
     "text": [
      "0.6499868245981133\n"
     ]
    }
   ],
   "source": [
    "#Plotting the results of the prediction\n",
    "plt.plot(y_sufl_test, y_pred, 'o')\n",
    "plt.plot([np.min(y_sufl_test),np.max(y_sufl_test)], [np.min(y_sufl_test),np.max(y_sufl_test)], '-')\n",
    "plt.xlabel('reference baseline value')\n",
    "plt.ylabel('predicted baseline value')\n",
    "plt.show()\n",
    "R_score = gp_matern.score(x_sufl_train, y_sufl_train)\n",
    "print(R_score)"
   ]
  },
  {
   "cell_type": "code",
   "execution_count": 164,
   "metadata": {},
   "outputs": [],
   "source": [
    "# Notes from suffling the data sets (cross-validation):\n",
    "#MAE=0.464, R2=0.667\n",
    "#suffle data:\n",
    "#MAE=0.462, R2=0.700\n",
    "#MAE=0.493, R2=0.668\n",
    "#MAE=0.545, R2=0.688\n",
    "#MAE=0.561, R2=0.689"
   ]
  }
 ],
 "metadata": {
  "kernelspec": {
   "display_name": "Python 3",
   "language": "python",
   "name": "python3"
  },
  "language_info": {
   "codemirror_mode": {
    "name": "ipython",
    "version": 3
   },
   "file_extension": ".py",
   "mimetype": "text/x-python",
   "name": "python",
   "nbconvert_exporter": "python",
   "pygments_lexer": "ipython3",
   "version": "3.8.5"
  }
 },
 "nbformat": 4,
 "nbformat_minor": 4
}
