{
 "cells": [
  {
   "cell_type": "code",
   "execution_count": 20,
   "metadata": {},
   "outputs": [],
   "source": [
    "import numpy as np\n",
    "import math\n",
    "import random\n",
    "import matplotlib.pyplot as plt # This imports matplotlib library for plotting"
   ]
  },
  {
   "cell_type": "markdown",
   "metadata": {},
   "source": [
    "First we define the PCA function:"
   ]
  },
  {
   "cell_type": "code",
   "execution_count": 21,
   "metadata": {},
   "outputs": [],
   "source": [
    "def PCA(X):\n",
    "    \n",
    "    # computes the covariance of X\n",
    "    # numpy covariance function assumes different ordering, so we transpose X\n",
    "    XCov = np.cov(X.T)\n",
    "    \n",
    "    # solves the eigenproblem and stores eigvals in D and eigvecs in V\n",
    "    D, V = np.linalg.eig(XCov)\n",
    "    \n",
    "    # perform the linear transformation - matrix-matrix multiplication\n",
    "    Yn = np.dot(X,V)\n",
    "\n",
    "    # return the eigenvector matrix V, the transformed data Yn, and the eigenvalues D\n",
    "    return V,Yn,D"
   ]
  },
  {
   "cell_type": "code",
   "execution_count": 22,
   "metadata": {},
   "outputs": [],
   "source": [
    "# We define normalization function here, that is zscore function\n",
    "# It is also known as standard score\n",
    "def zscore(X): # z-score uses to normalise the data.\n",
    "    \n",
    "    # get the shape of the data matrix\n",
    "    [nX,mX] = X.shape\n",
    "    \n",
    "    # compute the mean of every column X\n",
    "    XMean = np.mean(X, axis=0)\n",
    "    \n",
    "    # compute standard deviation of each column\n",
    "    XStd = np.std(X,axis=0,ddof=1)\n",
    "    \n",
    "    # subtract the mean from each column\n",
    "    zX = X - np.kron(np.ones((nX,1)),XMean) # Z = [X - mX]\n",
    "    \n",
    "    # divide by the stdv\n",
    "    Zscore = np.divide(zX,XStd)\n",
    "    \n",
    "    return Zscore"
   ]
  },
  {
   "cell_type": "markdown",
   "metadata": {},
   "source": [
    "Then, we apply <i>PCA</i> function to the data and print eigenvalues associated with two PCs. The results indicate that the highest variance is held in the first PC with variance of ~1.83 while the second PC has variance of ~0.16."
   ]
  },
  {
   "cell_type": "markdown",
   "metadata": {},
   "source": [
    "PCA transforms the original data space to PC space where the highest information is held by the first PC. PCA will be extremely beneficial when we deal with high dimensional data sets, so we can discard unneccesary PCs which contain very low variance. \n",
    "This type of problem will be tested on real chemical data in the final tutorial.\n",
    "The following code is to plot the original data together with the new transformation data as well\n",
    "as their eigenvector (PCs) as the direction. The produced Figure demonstrates how the original data (blue\n",
    "dots) rotate to form new transformation data (red dots)."
   ]
  },
  {
   "cell_type": "code",
   "execution_count": null,
   "metadata": {},
   "outputs": [],
   "source": [
    "import pandas as pd\n",
    "import numpy as np\n",
    "# load the csv file containing the values\n",
    "# , and r unnecessary \n",
    "data2 = pd.read_csv(r'C:\\Users\\JK\\Desktop\\MLfMS_Project\\spectraldata.csv', delimiter=',')\n",
    "#make a smaller df to play with values\n",
    "trydata = data2[0:50]\n",
    "# separate labels (only 1st columns values)\n",
    "labels = trydata.iloc[:, :1].values\n",
    "# from values (everything but the first column)\n",
    "values = trydata.iloc[:, 1:].values\n",
    "# if needed the column labels\n",
    "exp = trydata.columns.values.tolist()\n",
    "exp = exp[1:]"
   ]
  },
  {
   "cell_type": "code",
   "execution_count": 35,
   "metadata": {},
   "outputs": [],
   "source": [
    "#find indexes of wines for each class (from output, the classification)\n",
    "\n",
    "idx1 = np.where(labels==\"nm200\")\n",
    "idx2 = np.where(labels == \"nm220\")\n",
    "idx3 = np.where(labels== \"nm240\")\n",
    "idx4 = np.where(labels == \"nm260\")\n",
    "idx5 = np.where(labels==\"nm280\")\n",
    "idx6 = np.where(labels==\"nm300\")\n",
    "idx7 = np.where(labels==\"nm325\")\n",
    "idx8 = np.where(labels==\"nm350\")\n",
    "idx9 = np.where(labels==\"nm375\")\n",
    "idx10 = np.where(labels==\"nm400\")\n"
   ]
  },
  {
   "cell_type": "markdown",
   "metadata": {},
   "source": [
    "# FFT here"
   ]
  },
  {
   "cell_type": "code",
   "execution_count": 24,
   "metadata": {},
   "outputs": [],
   "source": [
    "# this is the scipy implementation\n",
    "# \n",
    "from scipy.fft import fft\n",
    "fouriers = fft(values)\n",
    "\n",
    "# numpy normalization\n",
    "#furry = np.fft.fft(values, norm = 'forward')"
   ]
  },
  {
   "cell_type": "markdown",
   "metadata": {},
   "source": [
    "# PCA here"
   ]
  },
  {
   "cell_type": "code",
   "execution_count": 25,
   "metadata": {},
   "outputs": [],
   "source": [
    "## # Apply normalization\n",
    "# # Next, we normalize the data\n",
    "X = zscore(fouriers)"
   ]
  },
  {
   "cell_type": "code",
   "execution_count": null,
   "metadata": {},
   "outputs": [],
   "source": [
    "# Applying PCA\n",
    "V,Ypca,D = PCA(X)            # perform PCA, where V, Ypca and D are\n",
    "                             # eigenvectors, new transformation and eigenvalues,\n",
    "                             # respectively\n",
    "print(\"Eigenvalues D: %s\" % D)"
   ]
  },
  {
   "cell_type": "code",
   "execution_count": 27,
   "metadata": {},
   "outputs": [],
   "source": [
    "# Here, we try to obtain the normalized cumulative sum (cumsum) of eigenvalues\n",
    "# assuming D are the eigenvalues from PCA\n",
    "idc = np.divide(np.cumsum(D),np.sum(D)) "
   ]
  },
  {
   "cell_type": "code",
   "execution_count": 28,
   "metadata": {},
   "outputs": [
    {
     "name": "stdout",
     "output_type": "stream",
     "text": [
      "[0.11226838+3.19557576e-18j 0.20000233+4.45432672e-18j\n",
      " 0.2771226 +4.48359143e-18j ... 1.        +1.58009165e-19j\n",
      " 1.        +4.03037820e-22j 1.        +2.15704154e-32j]\n"
     ]
    }
   ],
   "source": [
    "print(idc)"
   ]
  },
  {
   "cell_type": "markdown",
   "metadata": {},
   "source": [
    "# Plot here"
   ]
  },
  {
   "cell_type": "code",
   "execution_count": 29,
   "metadata": {},
   "outputs": [
    {
     "name": "stderr",
     "output_type": "stream",
     "text": [
      "C:\\Python\\lib\\site-packages\\numpy\\core\\_asarray.py:102: ComplexWarning: Casting complex values to real discards the imaginary part\n",
      "  return array(a, dtype, copy=False, order=order)\n"
     ]
    },
    {
     "data": {
      "image/png": "[encoded data removed]",
      "text/plain": [
       "<Figure size 432x288 with 1 Axes>"
      ]
     },
     "metadata": {
      "needs_background": "light"
     },
     "output_type": "display_data"
    }
   ],
   "source": [
    "# We plot normalized cumulative sum to understand the contributions of the obtained PCs\n",
    "plt.title('Normalized cumulative sum')\n",
    "plt.xlabel('# principal components')\n",
    "plt.ylabel('cumulative sum')\n",
    "\n",
    "# The plot shows that PC1-6 explain all data variance.\n",
    "plt.plot(range(1,len(D)-993),(idc[0:30]),'ro') # re-plot the data\n",
    "#lt.plot(range(1,len(D)+1),(idc),'ro') # re-plot the data\n",
    "plt.grid()\n",
    "plt.show()"
   ]
  },
  {
   "cell_type": "code",
   "execution_count": 54,
   "metadata": {},
   "outputs": [
    {
     "name": "stderr",
     "output_type": "stream",
     "text": [
      "C:\\Python\\lib\\site-packages\\numpy\\core\\_asarray.py:102: ComplexWarning: Casting complex values to real discards the imaginary part\n",
      "  return array(a, dtype, copy=False, order=order)\n"
     ]
    },
    {
     "data": {
      "image/png": "[encoded data removed]",
      "text/plain": [
       "<Figure size 432x288 with 1 Axes>"
      ]
     },
     "metadata": {
      "needs_background": "light"
     },
     "output_type": "display_data"
    }
   ],
   "source": [
    "# Plot the original data first (normalized)\n",
    "\n",
    "plt.figure(1)\n",
    "plt.plot(Ypca[:,0],\"bo\",Ypca[:,1],\"yo\",Ypca[:,2], \"ro\", label='original') # re-plot the data\n",
    "#plt.plot(X[:,0],X[:,1],'bo',label='zscored') # re-plot the data\n",
    "#plt.legend()\n",
    "plt.xlabel('X1')\n",
    "plt.ylabel('X2')\n",
    "\n",
    "#plt.title('Original data prior to PCA transformation')\n",
    "plt.xlabel('Feature 1')\n",
    "plt.ylabel('Feature 2')\n",
    "plt.ylim(bottom=-3.0, top=6)\n",
    "plt.xlim(left=-2, right=50)\n",
    "plt.grid()\n",
    "plt.show()"
   ]
  },
  {
   "cell_type": "markdown",
   "metadata": {},
   "source": [
    "### Rubish from this part below"
   ]
  },
  {
   "cell_type": "code",
   "execution_count": null,
   "metadata": {},
   "outputs": [],
   "source": [
    "defour = np.abs(np.fft.ifft(fouriers[0:35]))"
   ]
  },
  {
   "cell_type": "code",
   "execution_count": null,
   "metadata": {},
   "outputs": [],
   "source": [
    "# We plot normalized cumulative sum to understand the contributions of the obtained PCs\n",
    "plt.title('Normalized cumulative sum')\n",
    "plt.xlabel('# principal components')\n",
    "plt.ylabel('cumulative sum')\n",
    "\n",
    "xax = ['PCA1', 'PCA2', 'PCA3', 'PCA4']\n",
    "\n",
    "plt.bar(xax, idc[0:3]) # re-plot the data\n",
    "\n",
    "#plt.grid()\n",
    "plt.show()"
   ]
  },
  {
   "cell_type": "code",
   "execution_count": null,
   "metadata": {},
   "outputs": [],
   "source": [
    "# This is for visualization, to get an overview how the PC's are distributed\n",
    "\n",
    "#Setting the plot parameters --> naming\n",
    "plt.title(\"First two PCA components\")\n",
    "plt.xlabel(\"X\")\n",
    "plt.ylabel(\"Y\")\n",
    "\n",
    "# this is just try out to get bar plot, you can use normal plt.plot to get a better view\n",
    "\n",
    "#values = [0,0.2,1]\n",
    "#acces to the fisrst two values by indexes 0 and 1, re-plot the data\n",
    "plt.bar(Ypca[:,0], 1, '')\n",
    "plt.bar(Ypca[:,1], 1) \n",
    "\n",
    "#draw the plot\n",
    "plt.grid()\n",
    "plt.tight_layout()"
   ]
  },
  {
   "cell_type": "code",
   "execution_count": null,
   "metadata": {},
   "outputs": [],
   "source": [
    "# This is for visualization, to get an overview how the PC's are distributed\n",
    "\n",
    "#Setting the plot parameters --> naming\n",
    "plt.title(\"First two PCA components\")\n",
    "plt.xlabel(\"X\")\n",
    "plt.ylabel(\"Y\")\n",
    "\n",
    "#acces values by indexes 0 and 1, re-plot the data by using the labels 1-3\n",
    "# the Y value is used to coloring the clusters\n",
    "plt.plot(Ypca[idx1,0],Ypca[idx1,1], \"bo\") \n",
    "plt.plot(Ypca[idx2,0],Ypca[idx2,1], \"ro\") \n",
    "plt.plot(Ypca[idx3,0],Ypca[idx3,1], \"go\") \n",
    "plt.plot(Ypca[idx4,0],Ypca[idx4,1], \"co\") \n",
    "plt.plot(Ypca[idx5,0],Ypca[idx5,1], \"mo\") \n",
    "plt.plot(Ypca[idx6,0],Ypca[idx6,1], \"yo\") \n",
    "plt.plot(Ypca[idx7,0],Ypca[idx7,1], \"ko\") \n",
    "plt.plot(Ypca[idx8,0],Ypca[idx8,1], color = \"plum\", linestyle='', marker='o')\n",
    "plt.plot(Ypca[idx9,0],Ypca[idx9,1], color = \"sienna\", linestyle='', marker='o')\n",
    "plt.plot(Ypca[idx10,0],Ypca[idx10,1], color = \"silver\", linestyle='', marker='o')\n",
    "\n",
    "\n",
    "#draw the plot\n",
    "plt.grid()\n",
    "plt.tight_layout()"
   ]
  }
 ],
 "metadata": {
  "anaconda-cloud": {},
  "interpreter": {
   "hash": "38740d3277777e2cd7c6c2cc9d8addf5118fdf3f82b1b39231fd12aeac8aee8b"
  },
  "kernelspec": {
   "display_name": "Python 3 (ipykernel)",
   "language": "python",
   "name": "python3"
  },
  "language_info": {
   "codemirror_mode": {
    "name": "ipython",
    "version": 3
   },
   "file_extension": ".py",
   "mimetype": "text/x-python",
   "name": "python",
   "nbconvert_exporter": "python",
   "pygments_lexer": "ipython3",
   "version": "3.9.1"
  }
 },
 "nbformat": 4,
 "nbformat_minor": 4
}
